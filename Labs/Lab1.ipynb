{
 "cells": [
  {
   "cell_type": "markdown",
   "id": "40072110-1f31-4ef0-90ed-7f2b62f558a0",
   "metadata": {},
   "source": [
    "# Bisection 1\n",
    "\n",
    "\n",
    "Using the bisection method, find all real zeros of the function $p(x) = x^5 - 2x^4 - 3x^3 + 4x^2 + 2x $.\n",
    "\n",
    "1. Draw the graph of $ p(x) $.\n",
    "2. Experiment with different intervals to isolate the zeros."
   ]
  },
  {
   "cell_type": "markdown",
   "id": "5968779f-895f-43a0-af94-47394f017363",
   "metadata": {},
   "source": [
    "# Tangent 1\n",
    "\n",
    "\n",
    "Using the tangent (Newton-Raphson) method, find all real zeros of the function$ p(x) = -x^3 + 4x^2 - 2x + 2 $.\n",
    "\n",
    "1. Use the analytical derivative of $ p(x) $.\n",
    "2. Start with the following initial values for $ x $:\n",
    "   - $ x = 0 $\n",
    "   - $ x = 1.5 $\n",
    "   - $ x = 3$"
   ]
  },
  {
   "cell_type": "markdown",
   "id": "52b05958-2bfb-4504-838b-5094f7d405a8",
   "metadata": {},
   "source": [
    "# Tangent 2\n",
    "\n",
    "Using the tangent (Newton-Raphson) method, find all real zeros of the function $ p(x) = x^3 - 3x^2 + 2x $.\n",
    "\n",
    "1. Use the analytical derivative of $ p(x) $.\n",
    "2. Start with the following initial values for $ x $:\n",
    "   - $ x = 1.447 $\n",
    "   - $ x = 1.4475 $\n",
    "   - $ x = 1.448 $"
   ]
  },
  {
   "cell_type": "markdown",
   "id": "72d19628-15ef-4d14-8ab1-02d9d1964d52",
   "metadata": {},
   "source": [
    "# Task 1\n",
    "Using the bisection method, find the real zero of the function $ p(x) = x^3 - 2x + 2 $."
   ]
  },
  {
   "cell_type": "markdown",
   "id": "25c748d4-77a4-4167-96c6-fa26985f432f",
   "metadata": {},
   "source": [
    "# Task 2\n",
    "Use the bisection method to find all real zeros of the following functions:\n",
    "\n",
    "(a) $ p(x) = x^3 + x^2 - x - 1 $\n",
    "\n",
    "(b) $ p(x) = x^3 + 3x^2 + 3x + 1 $\n",
    "\n",
    "(c) $ p(x) = x^5 + 1.8x^4 - 9x^3 - 9x^2 + 23x $"
   ]
  },
  {
   "cell_type": "markdown",
   "id": "e8f0307e-c5e8-4371-b2ef-7f6e0abbe9d5",
   "metadata": {},
   "source": [
    "# Task 3\n",
    "Given the function $ f(x) = x^3 - x^2 + x - 0.5 $, use both the secant and tangential (Newton-Raphson) methods to find its real zeros.\n"
   ]
  },
  {
   "cell_type": "markdown",
   "id": "075406a1-28c3-42e6-976f-2eefeed3841c",
   "metadata": {},
   "source": [
    "# Task 4\n",
    "Finding the Square Root of 612 Using the Tangential (Newton-Raphson) Method"
   ]
  },
  {
   "cell_type": "markdown",
   "id": "d9cfb45b-b508-4417-b958-a8e2879eff18",
   "metadata": {},
   "source": [
    "# Task 5\n",
    "Finding Zeros of $ f(x) = x^3 - 2x + 2 $ Using the Tangential (Newton-Raphson) Method. Start with 0, if it fails star with 1, if that fails consider a different starting point.\n"
   ]
  },
  {
   "cell_type": "markdown",
   "id": "b61736cd-c8a2-461f-b60f-d4024c620abe",
   "metadata": {},
   "source": [
    "# Task 6\n",
    "Finding Zeros of $ f(x) = x^3 - 2x + 2 $ using secant method\n"
   ]
  },
  {
   "cell_type": "code",
   "execution_count": null,
   "id": "fe532789-c14e-4535-8949-b3aecc26e635",
   "metadata": {},
   "outputs": [],
   "source": []
  }
 ],
 "metadata": {
  "kernelspec": {
   "display_name": "Python 3 (ipykernel)",
   "language": "python",
   "name": "python3"
  },
  "language_info": {
   "codemirror_mode": {
    "name": "ipython",
    "version": 3
   },
   "file_extension": ".py",
   "mimetype": "text/x-python",
   "name": "python",
   "nbconvert_exporter": "python",
   "pygments_lexer": "ipython3",
   "version": "3.12.3"
  }
 },
 "nbformat": 4,
 "nbformat_minor": 5
}
