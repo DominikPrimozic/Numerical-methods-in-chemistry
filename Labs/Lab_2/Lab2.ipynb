{
 "cells": [
  {
   "cell_type": "markdown",
   "id": "8c3dd293-2f39-4e97-94e3-17f3bd6aede1",
   "metadata": {},
   "source": [
    "# Task 1: \n",
    "Calculate roots of the function $ f(x) = x^2 + x + 1 $ using Newton's Method\n"
   ]
  },
  {
   "cell_type": "markdown",
   "id": "852fbe8a-4622-44ab-b253-2e202b521bc9",
   "metadata": {},
   "source": [
    "# Task 2:\n",
    "Find all intersections of curves $f(x) = \\tan(x) $ and $ g(x) = x^2 + x - 1 $ on the interval between 0 and $ 6\\pi $\n"
   ]
  },
  {
   "cell_type": "markdown",
   "id": "9f943504-7053-4f79-9fa5-1574fc4f74c1",
   "metadata": {},
   "source": [
    "# Task 3: \n",
    "Write a program to find the zero of the function $ f(x) = x - \\cos(x) $ iteratively\n"
   ]
  },
  {
   "cell_type": "markdown",
   "id": "eaa0ed27-2479-4c39-92e7-d915d2faba88",
   "metadata": {},
   "source": [
    "# Task 4: \n",
    "Use the tangent method for finding complex roots of the following functions with tolerance $ 10^{-5} $:\n",
    "\n",
    "1. $f(x) = 0.1x^4 - 2x^3 - 1.5x^2 + 3x - 4.5 $\n",
    "2. $f(x) = 0.1x^5 - 3x^3 + 5 $\n",
    "3. $f(x) = ix^4 - 2x^3 + x^2 + 5 $"
   ]
  },
  {
   "cell_type": "markdown",
   "id": "1d68352e-d407-4d74-b7a4-1bdb1396ff71",
   "metadata": {},
   "source": [
    "# Task 5: \n",
    "\n",
    "Use the Van der Waals equation to calculate the volume of 2.05 moles of Nitrogen at 1 bar pressure and 29°C. <p></p>\n",
    "\n",
    "Van der Waals equation:\n",
    "The equation is given by:\n",
    "$$\n",
    "\\left(p + \\frac{a n^2}{V^2}\\right)(V - nb) = nRT\n",
    "$$\n",
    "Where:\n",
    "- $ p = 1 $ bar\n",
    "- $ n = 2.05 $ moles\n",
    "- $ T = 29^\\circ C = 302.15 \\, K $\n",
    "- Van der Waals constants for Nitrogen: \n",
    "  - $ a = 1.408 \\, \\text{L}^2\\text{atm}/\\text{mol}^2 $\n",
    "  - $ b = 0.03913 \\, \\text{L/mol} $"
   ]
  },
  {
   "cell_type": "markdown",
   "id": "c5a4420f-3b56-4658-af8e-60f5a6e46e2f",
   "metadata": {},
   "source": [
    "# Task 6: \n",
    "\n",
    "Use the tangent (Newton-Raphson) method to solve the following equations:\n",
    "\n",
    "1. $ x^3 - 1 = 0 $\n",
    "2. $ x^4 - 1 = 0 $\n",
    "\n",
    "Conduct a systematic exploration of how the solutions depend on the initial guess. To achieve this, use a search grid with a range from -2 to 2 for both the real and imaginary components, incrementing by 0.1.<p></p>\n",
    "\n",
    "Visualize each unique solution on a plot, assigning a distinct colour to each solution to illustrate convergence patterns"
   ]
  },
  {
   "cell_type": "markdown",
   "id": "8e10ba92-16ea-4813-bba8-0211ca292b17",
   "metadata": {},
   "source": []
  }
 ],
 "metadata": {
  "kernelspec": {
   "display_name": "Python 3 (ipykernel)",
   "language": "python",
   "name": "python3"
  },
  "language_info": {
   "codemirror_mode": {
    "name": "ipython",
    "version": 3
   },
   "file_extension": ".py",
   "mimetype": "text/x-python",
   "name": "python",
   "nbconvert_exporter": "python",
   "pygments_lexer": "ipython3",
   "version": "3.12.3"
  }
 },
 "nbformat": 4,
 "nbformat_minor": 5
}
